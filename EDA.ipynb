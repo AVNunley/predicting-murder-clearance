{
 "cells": [
  {
   "cell_type": "code",
   "execution_count": null,
   "id": "nuclear-legend",
   "metadata": {},
   "outputs": [],
   "source": []
  },
  {
   "cell_type": "code",
   "execution_count": 5,
   "id": "average-anchor",
   "metadata": {},
   "outputs": [],
   "source": [
    "#Create Ori clearance rate column\n",
    "\n",
    "clearance_rates = murders.groupby(['Ori','Solved'])['Month'].count()\n",
    "clearance_rates = clearance_rates.unstack()\n",
    "clearance_rates.fillna(0, inplace = True)\n",
    "clearance_rates['Clearance'] = clearance_rates.Yes/(clearance_rates.Yes + clearance_rates.No)\n",
    "clearance_dict = dict(zip(clearance_rates.index, clearance_rates.Clearance))\n",
    "clearance_dict\n",
    "\n",
    "murders['OriClearance'] = murders.Ori.apply(lambda x: clearance_dict.get(x))"
   ]
  },
  {
   "cell_type": "code",
   "execution_count": 6,
   "id": "collectible-links",
   "metadata": {},
   "outputs": [
    {
     "data": {
      "text/plain": [
       "Text(0, 0.5, 'Observations')"
      ]
     },
     "execution_count": 6,
     "metadata": {},
     "output_type": "execute_result"
    },
    {
     "data": {
      "image/png": "[encoded data removed]",
      "text/plain": [
       "<Figure size 432x288 with 1 Axes>"
      ]
     },
     "metadata": {},
     "output_type": "display_data"
    }
   ],
   "source": [
    "plt.hist(murders.OriClearance, bins = 50)\n",
    "plt.xlabel('Investigating Agency Clearance Rate')\n",
    "plt.ylabel('Observations')"
   ]
  },
  {
   "cell_type": "code",
   "execution_count": 4,
   "id": "excess-fitting",
   "metadata": {},
   "outputs": [
    {
     "data": {
      "text/plain": [
       "Ori          12936\n",
       "Agentype         7\n",
       "Solved           2\n",
       "Month           12\n",
       "Homicide         2\n",
       "Situation        6\n",
       "VicAge         101\n",
       "VicSex           3\n",
       "VicRace          6\n",
       "VicEthnic        3\n",
       "Weapon          17\n",
       "VicCount        13\n",
       "MSA            409\n",
       "dtype: int64"
      ]
     },
     "execution_count": 4,
     "metadata": {},
     "output_type": "execute_result"
    }
   ],
   "source": [
    "murders.nunique()"
   ]
  },
  {
   "cell_type": "code",
   "execution_count": 123,
   "id": "traditional-frontier",
   "metadata": {},
   "outputs": [
    {
     "data": {
      "text/plain": [
       "Male      0.775663\n",
       "Female    0.224337\n",
       "Name: VicSex, dtype: float64"
      ]
     },
     "execution_count": 123,
     "metadata": {},
     "output_type": "execute_result"
    }
   ],
   "source": [
    "# Check number of observations with unknown victim gender\n",
    "murders.VicSex.value_counts(normalize = True)"
   ]
  },
  {
   "cell_type": "markdown",
   "id": "official-easter",
   "metadata": {},
   "source": [
    "The observations with unknown gender represent a tiny portion of the dataset and could be accurate representations of victim remains found. 'Unknown' will be allowed to remain as a category within the feature."
   ]
  },
  {
   "cell_type": "code",
   "execution_count": 37,
   "id": "light-thirty",
   "metadata": {},
   "outputs": [
    {
     "data": {
      "text/plain": [
       "White                                  397633\n",
       "Black                                  380396\n",
       "Asian                                   11554\n",
       "Unknown                                  8957\n",
       "American Indian or Alaskan Native        6086\n",
       "Native Hawaiian or Pacific Islander        92\n",
       "Name: VicRace, dtype: int64"
      ]
     },
     "execution_count": 37,
     "metadata": {},
     "output_type": "execute_result"
    }
   ],
   "source": [
    "murders.VicRace.value_counts()"
   ]
  },
  {
   "cell_type": "markdown",
   "id": "assumed-granny",
   "metadata": {},
   "source": [
    "Similar to gender, the observations with unknown race represent a tiny portion of the dataset and could be accurate representations of victim remains found. 'Unknown' will be allowed to remain as a category within the feature."
   ]
  },
  {
   "cell_type": "code",
   "execution_count": 39,
   "id": "remarkable-terrace",
   "metadata": {},
   "outputs": [
    {
     "data": {
      "text/plain": [
       "Gun                                     535040\n",
       "Knife or cutting instrument             117868\n",
       "Personal weapons, includes beating       46269\n",
       "Other or type unknown                    41648\n",
       "Blunt object - hammer, club, etc         35638\n",
       "Strangulation - hanging                  10038\n",
       "Fire                                      7769\n",
       "Asphyxiation - includes death by gas      4954\n",
       "Narcotics or drugs, sleeping pills        2538\n",
       "Drowning                                  1503\n",
       "Explosives                                 625\n",
       "Poison - does not include gas              569\n",
       "Pushed or thrown out window                259\n",
       "Name: Weapon, dtype: int64"
      ]
     },
     "execution_count": 39,
     "metadata": {},
     "output_type": "execute_result"
    }
   ],
   "source": [
    "murders.Weapon.value_counts()"
   ]
  },
  {
   "cell_type": "code",
   "execution_count": 40,
   "id": "above-worker",
   "metadata": {},
   "outputs": [
    {
     "data": {
      "text/plain": [
       "Gun                                     524678\n",
       "Knife or cutting instrument             115321\n",
       "Personal weapons, includes beating       44907\n",
       "Blunt object - hammer, club, etc         34750\n",
       "Strangulation - hanging                   9735\n",
       "Fire                                      7413\n",
       "Asphyxiation - includes death by gas      4770\n",
       "Narcotics or drugs, sleeping pills        2451\n",
       "Drowning                                  1451\n",
       "Explosives                                 616\n",
       "Poison - does not include gas              555\n",
       "Pushed or thrown out window                257\n",
       "Name: Weapon, dtype: int64"
      ]
     },
     "execution_count": 40,
     "metadata": {},
     "output_type": "execute_result"
    }
   ],
   "source": [
    "murders_no_unknowns = murders_no_unknowns[murders_no_unknowns.Weapon != 'Other or type unknown']\n",
    "murders_no_unknowns.Weapon.value_counts()"
   ]
  },
  {
   "cell_type": "code",
   "execution_count": 41,
   "id": "personalized-characterization",
   "metadata": {},
   "outputs": [
    {
     "data": {
      "text/plain": [
       "Unknown or not reported    479154\n",
       "Not of Hispanic origin     241188\n",
       "Hispanic origin             84376\n",
       "Name: VicEthnic, dtype: int64"
      ]
     },
     "execution_count": 41,
     "metadata": {},
     "output_type": "execute_result"
    }
   ],
   "source": [
    "murders.VicEthnic.value_counts()"
   ]
  },
  {
   "cell_type": "markdown",
   "id": "known-bottom",
   "metadata": {},
   "source": [
    "Unfortunately, the 'VicEthnic' feature contains an enormous number of unknowns - over half the original dataset\n",
    "\n",
    "For now, I will create one no_unknowns dataset that includes 'VicEthnic' unknowns and one that excludes them"
   ]
  }
 ],
 "metadata": {
  "kernelspec": {
   "display_name": "Python 3",
   "language": "python",
   "name": "python3"
  },
  "language_info": {
   "codemirror_mode": {
    "name": "ipython",
    "version": 3
   },
   "file_extension": ".py",
   "mimetype": "text/x-python",
   "name": "python",
   "nbconvert_exporter": "python",
   "pygments_lexer": "ipython3",
   "version": "3.8.8"
  }
 },
 "nbformat": 4,
 "nbformat_minor": 5
}
