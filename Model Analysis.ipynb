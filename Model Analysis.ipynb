{
 "cells": [
  {
   "cell_type": "code",
   "execution_count": 1,
   "metadata": {},
   "outputs": [],
   "source": [
    "import pandas as pd\n",
    "import numpy as np\n",
    "import scipy.stats as stats\n",
    "\n",
    "import matplotlib.pyplot as plt\n",
    "import seaborn as sns\n",
    "\n",
    "%matplotlib inline\n",
    "sns.set_style('whitegrid')\n",
    "sns.set_context('notebook')\n",
    "\n",
    "from sklearn.preprocessing import OrdinalEncoder, StandardScaler\n",
    "from sklearn.model_selection import train_test_split, cross_val_score, GridSearchCV, StratifiedShuffleSplit\n",
    "\n",
    "from sklearn.linear_model import LogisticRegression\n",
    "from sklearn.neighbors import KNeighborsClassifier\n",
    "from sklearn.svm import SVC\n",
    "from sklearn.naive_bayes import GaussianNB\n",
    "from sklearn.tree import DecisionTreeClassifier\n",
    "from sklearn.ensemble import RandomForestClassifier\n",
    "\n",
    "from sklearn.metrics import confusion_matrix,classification_report, roc_curve, log_loss, brier_score_loss, roc_auc_score, make_scorer\n",
    "from timeit import default_timer as timer\n",
    "\n",
    "pd.set_option('display.max_columns', 25)"
   ]
  },
  {
   "cell_type": "code",
   "execution_count": 2,
   "metadata": {},
   "outputs": [],
   "source": [
    "#Cross Validation Function\n",
    "\n",
    "#IS THIS NEEDED???\n",
    "\n",
    "def CrossVal(model, X_train, y_train, scoring = None, folds = 5, test_size = 0.2):\n",
    "\n",
    "    start_cross_val = timer()\n",
    "\n",
    "    scores = cross_val_score(model, X_train, y_train, scoring = scoring, n_jobs = 11, cv = StratifiedShuffleSplit(n_splits = folds, test_size = test_size))\n",
    "    \n",
    "    print('Mean Score:',scores.mean())\n",
    "    print('Score Standard Deviation',scores.std())\n",
    "    print('Scores:', scores)\n",
    "\n",
    "    end_cross_val = timer()\n",
    "    print('Cross Validation Time:', round(end_cross_val - start_cross_val,1), 'seconds')\n",
    "    \n",
    "    return scores"
   ]
  },
  {
   "cell_type": "code",
   "execution_count": 3,
   "metadata": {},
   "outputs": [],
   "source": [
    "# Custom loss function - Binned Sum of Squared Residuals\n",
    "\n",
    "def binned_sum_of_squared_residuals(y_actual, y_predicted):\n",
    "\n",
    "    df = pd.DataFrame(y_actual.copy())\n",
    "    df.columns = ['Actual']\n",
    "    df['Predicted Probability'] = y_predicted\n",
    "\n",
    "    bins = np.arange(0,1.05,0.05)\n",
    "    labels = ['0.05','0.1','0.15','0.2','0.25','0.3','0.35','0.4','0.45','0.5',\n",
    "              '0.55','0.6','0.65','0.7','0.75','0.8','0.85','0.9','0.95','1']\n",
    "    df['Bin'] = pd.cut(df['Predicted Probability'], bins = bins, labels = labels)\n",
    "    bin_df = df.groupby('Bin')['Actual', 'Predicted Probability'].mean()\n",
    "    bin_df.reset_index(inplace = True)\n",
    "    bin_df.columns = ['Bin', 'Actual', 'Predicted']\n",
    "\n",
    "    binned_sum_of_squares = sum(((bin_df.Actual - bin_df.Predicted).fillna(0)*100) ** 2)\n",
    "    \n",
    "    return binned_sum_of_squares\n",
    "\n",
    "# wrapper for grid search object\n",
    "bssr = make_scorer(binned_sum_of_squared_residuals, \n",
    "                   greater_is_better = False,\n",
    "                   needs_proba = True)"
   ]
  },
  {
   "cell_type": "code",
   "execution_count": 5,
   "metadata": {},
   "outputs": [],
   "source": [
    "# Preprocessing Function\n",
    "\n",
    "def preprocess(X_categorical, X_numerical, y):\n",
    "\n",
    "    start_preprocessing = timer()\n",
    "\n",
    "    #Create dummy columns for categorical features\n",
    "    X = pd.get_dummies(X_categorical, drop_first = True)\n",
    "\n",
    "    #Add numerical features to model dataframe\n",
    "    X = pd.concat([X, X_numerical], axis = 1)\n",
    "\n",
    "    #Scale features\n",
    "    X = pd.DataFrame(StandardScaler().fit_transform(X), index = X.index, columns = X.columns)\n",
    "\n",
    "    #Create validation test set to reserve for final validation\n",
    "    X_train, X_test, y_train, y_test = train_test_split(X, y, stratify = y, random_state = 33)\n",
    "\n",
    "    end_preprocessing = timer()\n",
    "    print('Preprocessing Time:', round(end_preprocessing - start_preprocessing,1), 'seconds')\n",
    "    \n",
    "    return X_train, X_test, y_train.astype('int'), y_test.astype('int')"
   ]
  },
  {
   "cell_type": "code",
   "execution_count": 6,
   "metadata": {},
   "outputs": [],
   "source": [
    "# Training Function\n",
    "\n",
    "def train(model, X_train, y_train):\n",
    "    \n",
    "    start_training = timer()\n",
    "\n",
    "    model.fit(X_train, np.ravel(y_train))\n",
    "\n",
    "    end_training = timer()\n",
    "    print('Training Time:', round(end_training - start_training,1), 'seconds')"
   ]
  },
  {
   "cell_type": "code",
   "execution_count": 7,
   "metadata": {},
   "outputs": [],
   "source": [
    "# Prediction Function\n",
    "\n",
    "def predict(model, X_validation):\n",
    "    \n",
    "    start_prediction = timer()\n",
    "\n",
    "    y_pred = pd.DataFrame(model.predict(X_validation), index = X_validation.index)\n",
    "    y_pred_prob = pd.DataFrame(model.predict_proba(X_validation)[:,1], index = X_validation.index)\n",
    "\n",
    "    end_prediction = timer()\n",
    "    print('Prediction Time:', round(end_prediction - start_prediction,1), 'seconds')\n",
    "    \n",
    "    return y_pred, y_pred_prob"
   ]
  },
  {
   "cell_type": "code",
   "execution_count": 8,
   "metadata": {},
   "outputs": [],
   "source": [
    "# Reporting Function\n",
    "\n",
    "def reports(model, X_columns, y_validation, y_pred, y_pred_prob):\n",
    "\n",
    "    start_reports = timer()\n",
    "\n",
    "    print('Confusion Matrix:\\n', confusion_matrix(y_validation, y_pred))\n",
    "    print('Classification Report:\\n', classification_report(y_validation, y_pred))\n",
    "    print('Accuracy:', round((sum(y_pred.iloc[:,0] == y_validation.iloc[:,0]) / len(y_pred.values) * 100),2), \"%\")\n",
    "    print('Log Loss:', log_loss(y_validation, y_pred_prob))\n",
    "    print('Brier Score Loss:', brier_score_loss(y_validation, y_pred_prob))\n",
    "\n",
    "    fpr, tpr, thresholds = roc_curve(y_validation, y_pred_prob)\n",
    "\n",
    "    plt.plot(fpr, tpr)\n",
    "    plt.xlabel('False Positive Rate')\n",
    "    plt.ylabel('True Positive Rate')\n",
    "    plt.title('ROC Curve')\n",
    "    plt.show()\n",
    "\n",
    "    print('ROC AUC Score:', roc_auc_score(y_validation, y_pred_prob))\n",
    "    \n",
    "    if isinstance(model, RandomForestClassifier):\n",
    "    \n",
    "        forest_feature_importance = pd.DataFrame(zip(X_columns,model.feature_importances_))\n",
    "        forest_feature_importance.sort_values(1, inplace = True)\n",
    "        forest_feature_importance.reset_index(inplace = True, drop = True)\n",
    "\n",
    "        plt.bar(forest_feature_importance[0][-20:],forest_feature_importance[1][-20:])\n",
    "        plt.xticks(rotation = 'vertical')\n",
    "        plt.title('20 Largest Importances')\n",
    "        plt.show()\n",
    "\n",
    "        plt.bar(forest_feature_importance[0][0:20],forest_feature_importance[1][0:20])\n",
    "        plt.xticks(rotation = 'vertical')\n",
    "        plt.title('20 Smallest Importances')\n",
    "        plt.show()\n",
    "        \n",
    "    else:\n",
    "        \n",
    "        feature_coef = pd.DataFrame(zip(X_columns,model.coef_[0]))\n",
    "        feature_coef.sort_values(1, inplace = True)\n",
    "        feature_coef.reset_index(inplace = True, drop = True)\n",
    "\n",
    "        plt.bar(feature_coef[0][-20:],feature_coef[1][-20:])\n",
    "        plt.xticks(rotation = 'vertical')\n",
    "        plt.title('20 Largest Feature Coefficients')\n",
    "        plt.show()\n",
    "\n",
    "        plt.bar(feature_coef[0][0:20],feature_coef[1][0:20])\n",
    "        plt.xticks(rotation = 'vertical')\n",
    "        plt.title('20 Smallest Feature Coefficients')\n",
    "        plt.show()\n",
    "\n",
    "    proba_df = y_validation.copy()\n",
    "    proba_df['Predicted Probability'] = y_pred_prob\n",
    "\n",
    "    #The below bins by Predicted Probability\n",
    "    bins = np.arange(0,1.05,0.05)\n",
    "    labels = ['0.05','0.1','0.15','0.2','0.25','0.3','0.35','0.4','0.45','0.5',\n",
    "              '0.55','0.6','0.65','0.7','0.75','0.8','0.85','0.9','0.95','1']\n",
    "    proba_df['Bin'] = pd.cut(proba_df['Predicted Probability'], bins = bins, labels = labels)\n",
    "    #proba_df.reset_index(drop = True, inplace = True)\n",
    "    chart_df = proba_df.groupby('Bin')['Solved', 'Predicted Probability'].mean()\n",
    "    chart_df['Count'] = proba_df.groupby('Bin')['Solved'].count()\n",
    "    chart_df.reset_index(inplace = True)\n",
    "    chart_df.columns = ['Bin', 'Actual', 'Predicted', 'Count']\n",
    "\n",
    "    print(chart_df)\n",
    "\n",
    "    plt.bar(chart_df.Bin, chart_df.Count)\n",
    "    plt.xticks(rotation = 45)\n",
    "    plt.title('Frequency of Test Cases by Predicted Clearance Probability')\n",
    "    plt.xlabel('Case Clearance Probability')\n",
    "    plt.ylabel('Number of Cases')\n",
    "    plt.show()\n",
    "\n",
    "    plt.scatter(chart_df.Bin, chart_df.Actual, label = 'Actual', alpha = 1)\n",
    "    plt.scatter(chart_df.Bin, chart_df.Predicted, color = 'r', marker = 'D', label = 'Predicted', alpha = 0.75)\n",
    "    plt.legend()\n",
    "    plt.title('Actual and Predicted Clearance Rate by 5% Bin')\n",
    "    plt.xticks(rotation = 45)\n",
    "    plt.xlabel('Bin')\n",
    "    plt.yticks([0,0.1,0.2,0.3,0.4,0.5,0.6,0.7,0.8,0.9,1])\n",
    "    plt.ylabel('Clearance Rate')\n",
    "    plt.show()\n",
    "\n",
    "    plt.scatter(chart_df.Predicted, chart_df.Actual)\n",
    "    plt.plot([0,1],[0,1], linestyle = '--', color = 'g')\n",
    "    plt.title('Actual vs. Predicted Clearance Rate by 5% bin')\n",
    "    plt.xticks([0,0.1,0.2,0.3,0.4,0.5,0.6,0.7,0.8,0.9,1],rotation = 45)\n",
    "    plt.xlabel('Predicted')\n",
    "    plt.yticks([0,0.1,0.2,0.3,0.4,0.5,0.6,0.7,0.8,0.9,1])\n",
    "    plt.ylabel('Actual')\n",
    "    plt.show()\n",
    "\n",
    "    plt.bar(chart_df.Bin, chart_df.Actual - chart_df.Predicted,)\n",
    "    plt.title('Actual - Predicted Clearance Rate by 5% Bin')\n",
    "    plt.xticks(rotation = 45)\n",
    "    plt.xlabel('Bin (Range = Value - 5% to Value)')\n",
    "    #plt.yticks([-0.05,-0.04,-0.03,-0.02,-0.01,0,0.01,0.02,0.03,0.04,0.05])\n",
    "    plt.ylabel('Delta Clearance Rate')\n",
    "    plt.show()\n",
    "\n",
    "    print('Sum of Squared Binned Residuals:', binned_sum_of_squared_residuals(y_validation, y_pred_prob))\n",
    "\n",
    "    end_reports = timer()\n",
    "    print('Reporting Time:', round(end_reports - start_reports,1), 'seconds')\n",
    "    \n",
    "    return proba_df, chart_df"
   ]
  },
  {
   "cell_type": "code",
   "execution_count": 9,
   "metadata": {},
   "outputs": [],
   "source": [
    "# Load data into DataFrame\n",
    "murders_df = pd.read_csv('C:\\\\Users\\\\Work_Remote\\\\Desktop\\\\murders_cleaned.csv')"
   ]
  },
  {
   "cell_type": "code",
   "execution_count": 10,
   "metadata": {},
   "outputs": [
    {
     "data": {
      "text/plain": [
       "Index(['Agentype', 'Solved', 'Year', 'Month', 'Homicide', 'Situation',\n",
       "       'VicAge', 'VicSex', 'VicRace', 'VicEthnic', 'Weapon', 'VicCount',\n",
       "       'AgencyCases', 'WhiteVictimPercent', 'AgeKnown'],\n",
       "      dtype='object')"
      ]
     },
     "execution_count": 10,
     "metadata": {},
     "output_type": "execute_result"
    }
   ],
   "source": [
    "murders_df.columns"
   ]
  },
  {
   "cell_type": "code",
   "execution_count": 11,
   "metadata": {},
   "outputs": [
    {
     "name": "stderr",
     "output_type": "stream",
     "text": [
      "<ipython-input-11-37b52388ffac>:2: SettingWithCopyWarning: \n",
      "A value is trying to be set on a copy of a slice from a DataFrame\n",
      "\n",
      "See the caveats in the documentation: https://pandas.pydata.org/pandas-docs/stable/user_guide/indexing.html#returning-a-view-versus-a-copy\n",
      "  murders_df.Solved[murders_df.Solved == 'Yes'] = 1\n",
      "<ipython-input-11-37b52388ffac>:3: SettingWithCopyWarning: \n",
      "A value is trying to be set on a copy of a slice from a DataFrame\n",
      "\n",
      "See the caveats in the documentation: https://pandas.pydata.org/pandas-docs/stable/user_guide/indexing.html#returning-a-view-versus-a-copy\n",
      "  murders_df.Solved[murders_df.Solved == 'No'] = 0\n"
     ]
    }
   ],
   "source": [
    "# Encode y column\n",
    "murders_df.Solved[murders_df.Solved == 'Yes'] = 1\n",
    "murders_df.Solved[murders_df.Solved == 'No'] = 0"
   ]
  },
  {
   "cell_type": "code",
   "execution_count": 12,
   "metadata": {},
   "outputs": [
    {
     "name": "stdout",
     "output_type": "stream",
     "text": [
      "Preprocessing Time: 4.7 seconds\n"
     ]
    }
   ],
   "source": [
    "# Divide categorical and numerical features for preprocessing function\n",
    "X_categorical = murders_df[[\n",
    "                        'AgeKnown',\n",
    "                        'Agentype',\n",
    "                        'Month',\n",
    "                        'Homicide',\n",
    "                        'Situation',\n",
    "                        'VicSex',\n",
    "                        'VicRace',\n",
    "                        'VicEthnic',\n",
    "                        'Weapon'\n",
    "                            ]].reset_index(drop = True)\n",
    "\n",
    "X_numerical = murders_df[[\n",
    "                        'VicAge',\n",
    "                        'VicCount',\n",
    "                        'AgencyCases',\n",
    "                        'WhiteVictimPercent'\n",
    "                        ]].reset_index(drop = True)\n",
    "\n",
    "#Create y series for preprocessing function\n",
    "y = pd.DataFrame(murders_df.Solved).reset_index(drop = True)\n",
    "\n",
    "#Encode, Scale, Train-Test-Split\n",
    "X_train, X_test, y_train, y_test = preprocess(X_categorical, X_numerical, y)"
   ]
  },
  {
   "cell_type": "code",
   "execution_count": null,
   "metadata": {},
   "outputs": [],
   "source": []
  },
  {
   "cell_type": "code",
   "execution_count": null,
   "metadata": {},
   "outputs": [],
   "source": []
  },
  {
   "cell_type": "code",
   "execution_count": null,
   "metadata": {},
   "outputs": [],
   "source": []
  },
  {
   "cell_type": "code",
   "execution_count": null,
   "metadata": {},
   "outputs": [],
   "source": []
  },
  {
   "cell_type": "code",
   "execution_count": 13,
   "metadata": {},
   "outputs": [
    {
     "data": {
      "text/plain": [
       "Solved\n",
       "1         426019\n",
       "0         177519\n",
       "dtype: int64"
      ]
     },
     "execution_count": 13,
     "metadata": {},
     "output_type": "execute_result"
    }
   ],
   "source": [
    "y_train.value_counts()"
   ]
  },
  {
   "cell_type": "code",
   "execution_count": 14,
   "metadata": {
    "scrolled": true
   },
   "outputs": [],
   "source": [
    "# Create balanced training set\n",
    "\n",
    "solved_count, unsolved_count = y_train.value_counts()\n",
    "solved = y_train[y_train.Solved == 1]\n",
    "unsolved = y_train[y_train.Solved == 0]\n",
    "solved_sample = solved.sample(unsolved_count, random_state = 33)\n",
    "\n",
    "y_train_balanced = pd.concat([unsolved, solved_sample], axis = 0)\n",
    "\n",
    "X_train_balanced = y_train_balanced.join(X_train,how = 'inner').drop('Solved', axis =1)"
   ]
  },
  {
   "cell_type": "code",
   "execution_count": null,
   "metadata": {},
   "outputs": [],
   "source": []
  },
  {
   "cell_type": "code",
   "execution_count": null,
   "metadata": {},
   "outputs": [],
   "source": []
  },
  {
   "cell_type": "code",
   "execution_count": null,
   "metadata": {},
   "outputs": [],
   "source": []
  },
  {
   "cell_type": "code",
   "execution_count": null,
   "metadata": {},
   "outputs": [],
   "source": []
  },
  {
   "cell_type": "code",
   "execution_count": null,
   "metadata": {},
   "outputs": [],
   "source": []
  },
  {
   "cell_type": "code",
   "execution_count": 40,
   "metadata": {
    "collapsed": true,
    "jupyter": {
     "outputs_hidden": true
    }
   },
   "outputs": [
    {
     "name": "stdout",
     "output_type": "stream",
     "text": [
      "Confusion Matrix:\n",
      " [[ 3892 18311]\n",
      " [  929 21274]]\n",
      "Classification Report:\n",
      "               precision    recall  f1-score   support\n",
      "\n",
      "           0       0.81      0.18      0.29     22203\n",
      "           1       0.54      0.96      0.69     22203\n",
      "\n",
      "    accuracy                           0.57     44406\n",
      "   macro avg       0.67      0.57      0.49     44406\n",
      "weighted avg       0.67      0.57      0.49     44406\n",
      "\n",
      "Accuracy: 56.67 %\n",
      "Log Loss: 0.7007002964382333\n",
      "Brier Score Loss: 0.25060530606563053\n"
     ]
    },
    {
     "data": {
      "image/png": "[encoded data removed]",
      "text/plain": [
       "<Figure size 432x288 with 1 Axes>"
      ]
     },
     "metadata": {},
     "output_type": "display_data"
    },
    {
     "name": "stdout",
     "output_type": "stream",
     "text": [
      "ROC AUC Score: 0.7218977370431503\n"
     ]
    },
    {
     "data": {
      "image/png": "[encoded data removed]",
      "text/plain": [
       "<Figure size 432x288 with 1 Axes>"
      ]
     },
     "metadata": {},
     "output_type": "display_data"
    },
    {
     "data": {
      "image/png": "[encoded data removed]",
      "text/plain": [
       "<Figure size 432x288 with 1 Axes>"
      ]
     },
     "metadata": {},
     "output_type": "display_data"
    },
    {
     "name": "stderr",
     "output_type": "stream",
     "text": [
      "C:\\Users\\Classy\\anaconda3\\lib\\site-packages\\ipykernel_launcher.py:46: FutureWarning: Indexing with multiple keys (implicitly converted to a tuple of keys) will be deprecated, use a list instead.\n"
     ]
    },
    {
     "name": "stdout",
     "output_type": "stream",
     "text": [
      "     Bin    Actual  Predicted  Count\n",
      "0   0.05       NaN        NaN      0\n",
      "1    0.1  0.000000   0.086444      5\n",
      "2   0.15  0.111111   0.136423      9\n",
      "3    0.2  0.147059   0.177807     34\n",
      "4   0.25  0.132450   0.229412    151\n",
      "5    0.3  0.135211   0.276666    355\n",
      "6   0.35  0.162044   0.325371    685\n",
      "7    0.4  0.189220   0.376582    872\n",
      "8   0.45  0.202975   0.426951   1143\n",
      "9    0.5  0.221442   0.477632   1567\n",
      "10  0.55  0.247889   0.528730   2961\n",
      "11   0.6  0.352225   0.577374   4517\n",
      "12  0.65  0.410039   0.626743   5319\n",
      "13   0.7  0.461194   0.673943   5141\n",
      "14  0.75  0.525571   0.725295   4595\n",
      "15   0.8  0.604377   0.775043   5346\n",
      "16  0.85  0.666809   0.823208   4679\n",
      "17   0.9  0.760847   0.874227   3918\n",
      "18  0.95  0.830331   0.922003   2387\n",
      "19     1  0.925208   0.965232    722\n"
     ]
    },
    {
     "data": {
      "image/png": "[encoded data removed]",
      "text/plain": [
       "<Figure size 432x288 with 1 Axes>"
      ]
     },
     "metadata": {},
     "output_type": "display_data"
    },
    {
     "data": {
      "image/png": "[encoded data removed]",
      "text/plain": [
       "<Figure size 432x288 with 1 Axes>"
      ]
     },
     "metadata": {},
     "output_type": "display_data"
    },
    {
     "data": {
      "image/png": "[encoded data removed]",
      "text/plain": [
       "<Figure size 432x288 with 1 Axes>"
      ]
     },
     "metadata": {},
     "output_type": "display_data"
    },
    {
     "data": {
      "image/png": "[encoded data removed]",
      "text/plain": [
       "<Figure size 432x288 with 1 Axes>"
      ]
     },
     "metadata": {},
     "output_type": "display_data"
    },
    {
     "name": "stdout",
     "output_type": "stream",
     "text": [
      "Sum of Squared Binned Residuals: 5541.72245340144\n",
      "Reporting Time: 3.7 seconds\n"
     ]
    },
    {
     "name": "stderr",
     "output_type": "stream",
     "text": [
      "C:\\Users\\Classy\\anaconda3\\lib\\site-packages\\ipykernel_launcher.py:13: FutureWarning: Indexing with multiple keys (implicitly converted to a tuple of keys) will be deprecated, use a list instead.\n",
      "  del sys.path[0]\n"
     ]
    }
   ],
   "source": [
    "model  = RandomForestClassifier(n_jobs = 4, \n",
    "                            random_state = 33,\n",
    "                            class_weight = 'balanced',\n",
    "                            fit_intercept = True,\n",
    "                            penalty = 'l2',\n",
    "                            C = 0.01)\n",
    "\n",
    "train(model, X_train, y_train)\n",
    "y_pred, y_pred_prob = predict(model, X_test)\n",
    "proba_df, chart_df = reports(model, X_train.columns, y_validation_balanced, y_pred, y_pred_prob)"
   ]
  },
  {
   "cell_type": "code",
   "execution_count": 25,
   "metadata": {},
   "outputs": [
    {
     "data": {
      "text/html": [
       "<div>\n",
       "<style scoped>\n",
       "    .dataframe tbody tr th:only-of-type {\n",
       "        vertical-align: middle;\n",
       "    }\n",
       "\n",
       "    .dataframe tbody tr th {\n",
       "        vertical-align: top;\n",
       "    }\n",
       "\n",
       "    .dataframe thead th {\n",
       "        text-align: right;\n",
       "    }\n",
       "</style>\n",
       "<table border=\"1\" class=\"dataframe\">\n",
       "  <thead>\n",
       "    <tr style=\"text-align: right;\">\n",
       "      <th></th>\n",
       "      <th>Solved</th>\n",
       "      <th>Predicted Probability</th>\n",
       "      <th>Bin</th>\n",
       "    </tr>\n",
       "  </thead>\n",
       "  <tbody>\n",
       "    <tr>\n",
       "      <th>47824</th>\n",
       "      <td>0</td>\n",
       "      <td>0.301479</td>\n",
       "      <td>0.35</td>\n",
       "    </tr>\n",
       "    <tr>\n",
       "      <th>162750</th>\n",
       "      <td>1</td>\n",
       "      <td>0.347048</td>\n",
       "      <td>0.35</td>\n",
       "    </tr>\n",
       "    <tr>\n",
       "      <th>2379</th>\n",
       "      <td>0</td>\n",
       "      <td>0.575055</td>\n",
       "      <td>0.6</td>\n",
       "    </tr>\n",
       "    <tr>\n",
       "      <th>79265</th>\n",
       "      <td>0</td>\n",
       "      <td>0.528918</td>\n",
       "      <td>0.55</td>\n",
       "    </tr>\n",
       "    <tr>\n",
       "      <th>143254</th>\n",
       "      <td>1</td>\n",
       "      <td>0.742040</td>\n",
       "      <td>0.75</td>\n",
       "    </tr>\n",
       "  </tbody>\n",
       "</table>\n",
       "</div>"
      ],
      "text/plain": [
       "        Solved  Predicted Probability   Bin\n",
       "47824        0               0.301479  0.35\n",
       "162750       1               0.347048  0.35\n",
       "2379         0               0.575055   0.6\n",
       "79265        0               0.528918  0.55\n",
       "143254       1               0.742040  0.75"
      ]
     },
     "execution_count": 25,
     "metadata": {},
     "output_type": "execute_result"
    }
   ],
   "source": [
    "proba_df.head()"
   ]
  },
  {
   "cell_type": "code",
   "execution_count": 26,
   "metadata": {},
   "outputs": [
    {
     "name": "stdout",
     "output_type": "stream",
     "text": [
      "Index(['Solved', 'Predicted Probability', 'Bin', 'Agentype', 'Month',\n",
      "       'Homicide', 'Situation', 'VicSex', 'VicRace', 'VicEthnic', 'Weapon',\n",
      "       'VicAge', 'VicCount', 'OriCases', 'WhiteMurderPercent'],\n",
      "      dtype='object')\n"
     ]
    }
   ],
   "source": [
    "results_df = pd.concat([proba_df,\n",
    "                        df_categorical,\n",
    "                        df_numerical],\n",
    "                       axis = 1)\n",
    "print(results_df.columns)"
   ]
  },
  {
   "cell_type": "code",
   "execution_count": 27,
   "metadata": {},
   "outputs": [
    {
     "data": {
      "text/html": [
       "<div>\n",
       "<style scoped>\n",
       "    .dataframe tbody tr th:only-of-type {\n",
       "        vertical-align: middle;\n",
       "    }\n",
       "\n",
       "    .dataframe tbody tr th {\n",
       "        vertical-align: top;\n",
       "    }\n",
       "\n",
       "    .dataframe thead th {\n",
       "        text-align: right;\n",
       "    }\n",
       "</style>\n",
       "<table border=\"1\" class=\"dataframe\">\n",
       "  <thead>\n",
       "    <tr style=\"text-align: right;\">\n",
       "      <th>VicRace</th>\n",
       "      <th>American Indian or Alaskan Native</th>\n",
       "      <th>Asian</th>\n",
       "      <th>Black</th>\n",
       "      <th>Native Hawaiian or Pacific Islander</th>\n",
       "      <th>White</th>\n",
       "      <th>Total</th>\n",
       "      <th>Black Percent</th>\n",
       "      <th>Native Percent</th>\n",
       "      <th>Asian Percent</th>\n",
       "      <th>Native Islander Percent</th>\n",
       "      <th>White Percent</th>\n",
       "    </tr>\n",
       "    <tr>\n",
       "      <th>Bin</th>\n",
       "      <th></th>\n",
       "      <th></th>\n",
       "      <th></th>\n",
       "      <th></th>\n",
       "      <th></th>\n",
       "      <th></th>\n",
       "      <th></th>\n",
       "      <th></th>\n",
       "      <th></th>\n",
       "      <th></th>\n",
       "      <th></th>\n",
       "    </tr>\n",
       "  </thead>\n",
       "  <tbody>\n",
       "    <tr>\n",
       "      <th>0.05</th>\n",
       "      <td>0</td>\n",
       "      <td>0</td>\n",
       "      <td>4</td>\n",
       "      <td>0</td>\n",
       "      <td>0</td>\n",
       "      <td>4</td>\n",
       "      <td>1.000000</td>\n",
       "      <td>0.000000</td>\n",
       "      <td>0.000000</td>\n",
       "      <td>0.000000</td>\n",
       "      <td>0.000000</td>\n",
       "    </tr>\n",
       "    <tr>\n",
       "      <th>0.1</th>\n",
       "      <td>0</td>\n",
       "      <td>0</td>\n",
       "      <td>33</td>\n",
       "      <td>0</td>\n",
       "      <td>52</td>\n",
       "      <td>85</td>\n",
       "      <td>0.388235</td>\n",
       "      <td>0.000000</td>\n",
       "      <td>0.000000</td>\n",
       "      <td>0.000000</td>\n",
       "      <td>0.611765</td>\n",
       "    </tr>\n",
       "    <tr>\n",
       "      <th>0.15</th>\n",
       "      <td>0</td>\n",
       "      <td>2</td>\n",
       "      <td>366</td>\n",
       "      <td>0</td>\n",
       "      <td>168</td>\n",
       "      <td>536</td>\n",
       "      <td>0.682836</td>\n",
       "      <td>0.000000</td>\n",
       "      <td>0.003731</td>\n",
       "      <td>0.000000</td>\n",
       "      <td>0.313433</td>\n",
       "    </tr>\n",
       "    <tr>\n",
       "      <th>0.2</th>\n",
       "      <td>1</td>\n",
       "      <td>3</td>\n",
       "      <td>864</td>\n",
       "      <td>0</td>\n",
       "      <td>258</td>\n",
       "      <td>1126</td>\n",
       "      <td>0.767318</td>\n",
       "      <td>0.000888</td>\n",
       "      <td>0.002664</td>\n",
       "      <td>0.000000</td>\n",
       "      <td>0.229130</td>\n",
       "    </tr>\n",
       "    <tr>\n",
       "      <th>0.25</th>\n",
       "      <td>0</td>\n",
       "      <td>11</td>\n",
       "      <td>908</td>\n",
       "      <td>0</td>\n",
       "      <td>481</td>\n",
       "      <td>1400</td>\n",
       "      <td>0.648571</td>\n",
       "      <td>0.000000</td>\n",
       "      <td>0.007857</td>\n",
       "      <td>0.000000</td>\n",
       "      <td>0.343571</td>\n",
       "    </tr>\n",
       "    <tr>\n",
       "      <th>0.3</th>\n",
       "      <td>2</td>\n",
       "      <td>47</td>\n",
       "      <td>1118</td>\n",
       "      <td>0</td>\n",
       "      <td>1055</td>\n",
       "      <td>2222</td>\n",
       "      <td>0.503150</td>\n",
       "      <td>0.000900</td>\n",
       "      <td>0.021152</td>\n",
       "      <td>0.000000</td>\n",
       "      <td>0.474797</td>\n",
       "    </tr>\n",
       "    <tr>\n",
       "      <th>0.35</th>\n",
       "      <td>9</td>\n",
       "      <td>61</td>\n",
       "      <td>2070</td>\n",
       "      <td>1</td>\n",
       "      <td>1951</td>\n",
       "      <td>4092</td>\n",
       "      <td>0.505865</td>\n",
       "      <td>0.002199</td>\n",
       "      <td>0.014907</td>\n",
       "      <td>0.000244</td>\n",
       "      <td>0.476784</td>\n",
       "    </tr>\n",
       "    <tr>\n",
       "      <th>0.4</th>\n",
       "      <td>7</td>\n",
       "      <td>102</td>\n",
       "      <td>2833</td>\n",
       "      <td>0</td>\n",
       "      <td>2399</td>\n",
       "      <td>5341</td>\n",
       "      <td>0.530425</td>\n",
       "      <td>0.001311</td>\n",
       "      <td>0.019098</td>\n",
       "      <td>0.000000</td>\n",
       "      <td>0.449167</td>\n",
       "    </tr>\n",
       "    <tr>\n",
       "      <th>0.45</th>\n",
       "      <td>16</td>\n",
       "      <td>115</td>\n",
       "      <td>2204</td>\n",
       "      <td>0</td>\n",
       "      <td>2726</td>\n",
       "      <td>5061</td>\n",
       "      <td>0.435487</td>\n",
       "      <td>0.003161</td>\n",
       "      <td>0.022723</td>\n",
       "      <td>0.000000</td>\n",
       "      <td>0.538629</td>\n",
       "    </tr>\n",
       "    <tr>\n",
       "      <th>0.5</th>\n",
       "      <td>27</td>\n",
       "      <td>92</td>\n",
       "      <td>1714</td>\n",
       "      <td>0</td>\n",
       "      <td>2048</td>\n",
       "      <td>3881</td>\n",
       "      <td>0.441639</td>\n",
       "      <td>0.006957</td>\n",
       "      <td>0.023705</td>\n",
       "      <td>0.000000</td>\n",
       "      <td>0.527699</td>\n",
       "    </tr>\n",
       "    <tr>\n",
       "      <th>0.55</th>\n",
       "      <td>27</td>\n",
       "      <td>101</td>\n",
       "      <td>1383</td>\n",
       "      <td>0</td>\n",
       "      <td>2108</td>\n",
       "      <td>3619</td>\n",
       "      <td>0.382150</td>\n",
       "      <td>0.007461</td>\n",
       "      <td>0.027908</td>\n",
       "      <td>0.000000</td>\n",
       "      <td>0.582481</td>\n",
       "    </tr>\n",
       "    <tr>\n",
       "      <th>0.6</th>\n",
       "      <td>45</td>\n",
       "      <td>105</td>\n",
       "      <td>1581</td>\n",
       "      <td>1</td>\n",
       "      <td>2243</td>\n",
       "      <td>3975</td>\n",
       "      <td>0.397736</td>\n",
       "      <td>0.011321</td>\n",
       "      <td>0.026415</td>\n",
       "      <td>0.000252</td>\n",
       "      <td>0.564277</td>\n",
       "    </tr>\n",
       "    <tr>\n",
       "      <th>0.65</th>\n",
       "      <td>21</td>\n",
       "      <td>103</td>\n",
       "      <td>1179</td>\n",
       "      <td>2</td>\n",
       "      <td>2297</td>\n",
       "      <td>3602</td>\n",
       "      <td>0.327318</td>\n",
       "      <td>0.005830</td>\n",
       "      <td>0.028595</td>\n",
       "      <td>0.000555</td>\n",
       "      <td>0.637701</td>\n",
       "    </tr>\n",
       "    <tr>\n",
       "      <th>0.7</th>\n",
       "      <td>50</td>\n",
       "      <td>72</td>\n",
       "      <td>732</td>\n",
       "      <td>1</td>\n",
       "      <td>1928</td>\n",
       "      <td>2783</td>\n",
       "      <td>0.263026</td>\n",
       "      <td>0.017966</td>\n",
       "      <td>0.025871</td>\n",
       "      <td>0.000359</td>\n",
       "      <td>0.692778</td>\n",
       "    </tr>\n",
       "    <tr>\n",
       "      <th>0.75</th>\n",
       "      <td>35</td>\n",
       "      <td>50</td>\n",
       "      <td>533</td>\n",
       "      <td>0</td>\n",
       "      <td>1676</td>\n",
       "      <td>2294</td>\n",
       "      <td>0.232345</td>\n",
       "      <td>0.015257</td>\n",
       "      <td>0.021796</td>\n",
       "      <td>0.000000</td>\n",
       "      <td>0.730602</td>\n",
       "    </tr>\n",
       "    <tr>\n",
       "      <th>0.8</th>\n",
       "      <td>36</td>\n",
       "      <td>29</td>\n",
       "      <td>431</td>\n",
       "      <td>0</td>\n",
       "      <td>1341</td>\n",
       "      <td>1837</td>\n",
       "      <td>0.234622</td>\n",
       "      <td>0.019597</td>\n",
       "      <td>0.015787</td>\n",
       "      <td>0.000000</td>\n",
       "      <td>0.729995</td>\n",
       "    </tr>\n",
       "    <tr>\n",
       "      <th>0.85</th>\n",
       "      <td>20</td>\n",
       "      <td>16</td>\n",
       "      <td>376</td>\n",
       "      <td>0</td>\n",
       "      <td>841</td>\n",
       "      <td>1253</td>\n",
       "      <td>0.300080</td>\n",
       "      <td>0.015962</td>\n",
       "      <td>0.012769</td>\n",
       "      <td>0.000000</td>\n",
       "      <td>0.671189</td>\n",
       "    </tr>\n",
       "    <tr>\n",
       "      <th>0.9</th>\n",
       "      <td>9</td>\n",
       "      <td>4</td>\n",
       "      <td>309</td>\n",
       "      <td>0</td>\n",
       "      <td>498</td>\n",
       "      <td>820</td>\n",
       "      <td>0.376829</td>\n",
       "      <td>0.010976</td>\n",
       "      <td>0.004878</td>\n",
       "      <td>0.000000</td>\n",
       "      <td>0.607317</td>\n",
       "    </tr>\n",
       "    <tr>\n",
       "      <th>0.95</th>\n",
       "      <td>4</td>\n",
       "      <td>0</td>\n",
       "      <td>143</td>\n",
       "      <td>0</td>\n",
       "      <td>269</td>\n",
       "      <td>416</td>\n",
       "      <td>0.343750</td>\n",
       "      <td>0.009615</td>\n",
       "      <td>0.000000</td>\n",
       "      <td>0.000000</td>\n",
       "      <td>0.646635</td>\n",
       "    </tr>\n",
       "    <tr>\n",
       "      <th>1</th>\n",
       "      <td>0</td>\n",
       "      <td>0</td>\n",
       "      <td>12</td>\n",
       "      <td>0</td>\n",
       "      <td>48</td>\n",
       "      <td>60</td>\n",
       "      <td>0.200000</td>\n",
       "      <td>0.000000</td>\n",
       "      <td>0.000000</td>\n",
       "      <td>0.000000</td>\n",
       "      <td>0.800000</td>\n",
       "    </tr>\n",
       "  </tbody>\n",
       "</table>\n",
       "</div>"
      ],
      "text/plain": [
       "VicRace  American Indian or Alaskan Native  Asian  Black  \\\n",
       "Bin                                                        \n",
       "0.05                                     0      0      4   \n",
       "0.1                                      0      0     33   \n",
       "0.15                                     0      2    366   \n",
       "0.2                                      1      3    864   \n",
       "0.25                                     0     11    908   \n",
       "0.3                                      2     47   1118   \n",
       "0.35                                     9     61   2070   \n",
       "0.4                                      7    102   2833   \n",
       "0.45                                    16    115   2204   \n",
       "0.5                                     27     92   1714   \n",
       "0.55                                    27    101   1383   \n",
       "0.6                                     45    105   1581   \n",
       "0.65                                    21    103   1179   \n",
       "0.7                                     50     72    732   \n",
       "0.75                                    35     50    533   \n",
       "0.8                                     36     29    431   \n",
       "0.85                                    20     16    376   \n",
       "0.9                                      9      4    309   \n",
       "0.95                                     4      0    143   \n",
       "1                                        0      0     12   \n",
       "\n",
       "VicRace  Native Hawaiian or Pacific Islander  White  Total  Black Percent  \\\n",
       "Bin                                                                         \n",
       "0.05                                       0      0      4       1.000000   \n",
       "0.1                                        0     52     85       0.388235   \n",
       "0.15                                       0    168    536       0.682836   \n",
       "0.2                                        0    258   1126       0.767318   \n",
       "0.25                                       0    481   1400       0.648571   \n",
       "0.3                                        0   1055   2222       0.503150   \n",
       "0.35                                       1   1951   4092       0.505865   \n",
       "0.4                                        0   2399   5341       0.530425   \n",
       "0.45                                       0   2726   5061       0.435487   \n",
       "0.5                                        0   2048   3881       0.441639   \n",
       "0.55                                       0   2108   3619       0.382150   \n",
       "0.6                                        1   2243   3975       0.397736   \n",
       "0.65                                       2   2297   3602       0.327318   \n",
       "0.7                                        1   1928   2783       0.263026   \n",
       "0.75                                       0   1676   2294       0.232345   \n",
       "0.8                                        0   1341   1837       0.234622   \n",
       "0.85                                       0    841   1253       0.300080   \n",
       "0.9                                        0    498    820       0.376829   \n",
       "0.95                                       0    269    416       0.343750   \n",
       "1                                          0     48     60       0.200000   \n",
       "\n",
       "VicRace  Native Percent  Asian Percent  Native Islander Percent  White Percent  \n",
       "Bin                                                                             \n",
       "0.05           0.000000       0.000000                 0.000000       0.000000  \n",
       "0.1            0.000000       0.000000                 0.000000       0.611765  \n",
       "0.15           0.000000       0.003731                 0.000000       0.313433  \n",
       "0.2            0.000888       0.002664                 0.000000       0.229130  \n",
       "0.25           0.000000       0.007857                 0.000000       0.343571  \n",
       "0.3            0.000900       0.021152                 0.000000       0.474797  \n",
       "0.35           0.002199       0.014907                 0.000244       0.476784  \n",
       "0.4            0.001311       0.019098                 0.000000       0.449167  \n",
       "0.45           0.003161       0.022723                 0.000000       0.538629  \n",
       "0.5            0.006957       0.023705                 0.000000       0.527699  \n",
       "0.55           0.007461       0.027908                 0.000000       0.582481  \n",
       "0.6            0.011321       0.026415                 0.000252       0.564277  \n",
       "0.65           0.005830       0.028595                 0.000555       0.637701  \n",
       "0.7            0.017966       0.025871                 0.000359       0.692778  \n",
       "0.75           0.015257       0.021796                 0.000000       0.730602  \n",
       "0.8            0.019597       0.015787                 0.000000       0.729995  \n",
       "0.85           0.015962       0.012769                 0.000000       0.671189  \n",
       "0.9            0.010976       0.004878                 0.000000       0.607317  \n",
       "0.95           0.009615       0.000000                 0.000000       0.646635  \n",
       "1              0.000000       0.000000                 0.000000       0.800000  "
      ]
     },
     "execution_count": 27,
     "metadata": {},
     "output_type": "execute_result"
    }
   ],
   "source": [
    "bin_breakdown = results_df.groupby(['Bin','VicRace'])['VicRace'].count()\n",
    "bin_race_breakdown = bin_breakdown.unstack()\n",
    "bin_race_breakdown['Total'] = results_df.groupby('Bin')['VicRace'].count()\n",
    "bin_race_breakdown['Black Percent'] = bin_race_breakdown.Black / bin_race_breakdown.Total\n",
    "bin_race_breakdown['Native Percent'] = bin_race_breakdown['American Indian or Alaskan Native'] / bin_race_breakdown.Total\n",
    "bin_race_breakdown['Asian Percent'] = bin_race_breakdown.Asian / bin_race_breakdown.Total\n",
    "bin_race_breakdown['Native Islander Percent'] = bin_race_breakdown['Native Hawaiian or Pacific Islander'] / bin_race_breakdown.Total\n",
    "bin_race_breakdown['White Percent'] = bin_race_breakdown.White / bin_race_breakdown.Total\n",
    "bin_race_breakdown"
   ]
  },
  {
   "cell_type": "code",
   "execution_count": 28,
   "metadata": {},
   "outputs": [
    {
     "data": {
      "text/plain": [
       "<BarContainer object of 20 artists>"
      ]
     },
     "execution_count": 28,
     "metadata": {},
     "output_type": "execute_result"
    },
    {
     "data": {
      "image/png": "[encoded data removed]",
      "text/plain": [
       "<Figure size 432x288 with 1 Axes>"
      ]
     },
     "metadata": {},
     "output_type": "display_data"
    }
   ],
   "source": [
    "plt.bar(bin_race_breakdown.index, bin_race_breakdown['Black Percent'])"
   ]
  },
  {
   "cell_type": "code",
   "execution_count": 29,
   "metadata": {},
   "outputs": [
    {
     "data": {
      "text/plain": [
       "<BarContainer object of 20 artists>"
      ]
     },
     "execution_count": 29,
     "metadata": {},
     "output_type": "execute_result"
    },
    {
     "data": {
      "image/png": "[encoded data removed]",
      "text/plain": [
       "<Figure size 432x288 with 1 Axes>"
      ]
     },
     "metadata": {},
     "output_type": "display_data"
    }
   ],
   "source": [
    "plt.bar(bin_race_breakdown.index, bin_race_breakdown['White Percent'])"
   ]
  },
  {
   "cell_type": "code",
   "execution_count": 30,
   "metadata": {},
   "outputs": [
    {
     "data": {
      "image/png": "[encoded data removed]",
      "text/plain": [
       "<Figure size 432x288 with 1 Axes>"
      ]
     },
     "metadata": {},
     "output_type": "display_data"
    }
   ],
   "source": [
    "bin_breakdown = results_df.groupby('Bin')['OriCases'].mean()\n",
    "plt.bar(bin_breakdown.index, bin_breakdown)\n",
    "plt.xticks(rotation = 45)\n",
    "plt.title('Predicted Clearance Probability by Total Number of Cases Handled by Investigating Agency')\n",
    "plt.xlabel('Predicted Clearance Probability')\n",
    "plt.ylabel('Total Number of Cases Handled by Investigating Agency (Bin Average)')\n",
    "plt.show()"
   ]
  },
  {
   "cell_type": "markdown",
   "metadata": {},
   "source": [
    "AWESOME!!!!!"
   ]
  },
  {
   "cell_type": "code",
   "execution_count": 31,
   "metadata": {},
   "outputs": [
    {
     "data": {
      "text/plain": [
       "<BarContainer object of 20 artists>"
      ]
     },
     "execution_count": 31,
     "metadata": {},
     "output_type": "execute_result"
    },
    {
     "data": {
      "image/png": "[encoded data removed]",
      "text/plain": [
       "<Figure size 432x288 with 1 Axes>"
      ]
     },
     "metadata": {},
     "output_type": "display_data"
    }
   ],
   "source": [
    "bin_breakdown = results_df.groupby('Bin')['VicAge'].mean()\n",
    "plt.bar(bin_breakdown.index, bin_breakdown)"
   ]
  },
  {
   "cell_type": "code",
   "execution_count": 32,
   "metadata": {},
   "outputs": [
    {
     "data": {
      "text/plain": [
       "<BarContainer object of 20 artists>"
      ]
     },
     "execution_count": 32,
     "metadata": {},
     "output_type": "execute_result"
    },
    {
     "data": {
      "image/png": "[encoded data removed]",
      "text/plain": [
       "<Figure size 432x288 with 1 Axes>"
      ]
     },
     "metadata": {},
     "output_type": "display_data"
    }
   ],
   "source": [
    "bin_breakdown = results_df.groupby('Bin')['WhiteMurderPercent'].mean()\n",
    "plt.bar(bin_breakdown.index, bin_breakdown)"
   ]
  },
  {
   "cell_type": "code",
   "execution_count": 35,
   "metadata": {},
   "outputs": [
    {
     "data": {
      "text/html": [
       "<div>\n",
       "<style scoped>\n",
       "    .dataframe tbody tr th:only-of-type {\n",
       "        vertical-align: middle;\n",
       "    }\n",
       "\n",
       "    .dataframe tbody tr th {\n",
       "        vertical-align: top;\n",
       "    }\n",
       "\n",
       "    .dataframe thead th {\n",
       "        text-align: right;\n",
       "    }\n",
       "</style>\n",
       "<table border=\"1\" class=\"dataframe\">\n",
       "  <thead>\n",
       "    <tr style=\"text-align: right;\">\n",
       "      <th>VicSex</th>\n",
       "      <th>Female</th>\n",
       "      <th>Male</th>\n",
       "      <th>Total</th>\n",
       "      <th>Male Percent</th>\n",
       "      <th>Female Percent</th>\n",
       "    </tr>\n",
       "    <tr>\n",
       "      <th>Bin</th>\n",
       "      <th></th>\n",
       "      <th></th>\n",
       "      <th></th>\n",
       "      <th></th>\n",
       "      <th></th>\n",
       "    </tr>\n",
       "  </thead>\n",
       "  <tbody>\n",
       "    <tr>\n",
       "      <th>0.05</th>\n",
       "      <td>0</td>\n",
       "      <td>4</td>\n",
       "      <td>4</td>\n",
       "      <td>1.000000</td>\n",
       "      <td>0.000000</td>\n",
       "    </tr>\n",
       "    <tr>\n",
       "      <th>0.1</th>\n",
       "      <td>2</td>\n",
       "      <td>83</td>\n",
       "      <td>85</td>\n",
       "      <td>0.976471</td>\n",
       "      <td>0.023529</td>\n",
       "    </tr>\n",
       "    <tr>\n",
       "      <th>0.15</th>\n",
       "      <td>14</td>\n",
       "      <td>522</td>\n",
       "      <td>536</td>\n",
       "      <td>0.973881</td>\n",
       "      <td>0.026119</td>\n",
       "    </tr>\n",
       "    <tr>\n",
       "      <th>0.2</th>\n",
       "      <td>51</td>\n",
       "      <td>1075</td>\n",
       "      <td>1126</td>\n",
       "      <td>0.954707</td>\n",
       "      <td>0.045293</td>\n",
       "    </tr>\n",
       "    <tr>\n",
       "      <th>0.25</th>\n",
       "      <td>104</td>\n",
       "      <td>1296</td>\n",
       "      <td>1400</td>\n",
       "      <td>0.925714</td>\n",
       "      <td>0.074286</td>\n",
       "    </tr>\n",
       "    <tr>\n",
       "      <th>0.3</th>\n",
       "      <td>168</td>\n",
       "      <td>2054</td>\n",
       "      <td>2222</td>\n",
       "      <td>0.924392</td>\n",
       "      <td>0.075608</td>\n",
       "    </tr>\n",
       "    <tr>\n",
       "      <th>0.35</th>\n",
       "      <td>234</td>\n",
       "      <td>3858</td>\n",
       "      <td>4092</td>\n",
       "      <td>0.942815</td>\n",
       "      <td>0.057185</td>\n",
       "    </tr>\n",
       "    <tr>\n",
       "      <th>0.4</th>\n",
       "      <td>374</td>\n",
       "      <td>4967</td>\n",
       "      <td>5341</td>\n",
       "      <td>0.929976</td>\n",
       "      <td>0.070024</td>\n",
       "    </tr>\n",
       "    <tr>\n",
       "      <th>0.45</th>\n",
       "      <td>511</td>\n",
       "      <td>4550</td>\n",
       "      <td>5061</td>\n",
       "      <td>0.899032</td>\n",
       "      <td>0.100968</td>\n",
       "    </tr>\n",
       "    <tr>\n",
       "      <th>0.5</th>\n",
       "      <td>691</td>\n",
       "      <td>3190</td>\n",
       "      <td>3881</td>\n",
       "      <td>0.821953</td>\n",
       "      <td>0.178047</td>\n",
       "    </tr>\n",
       "    <tr>\n",
       "      <th>0.55</th>\n",
       "      <td>750</td>\n",
       "      <td>2869</td>\n",
       "      <td>3619</td>\n",
       "      <td>0.792760</td>\n",
       "      <td>0.207240</td>\n",
       "    </tr>\n",
       "    <tr>\n",
       "      <th>0.6</th>\n",
       "      <td>841</td>\n",
       "      <td>3134</td>\n",
       "      <td>3975</td>\n",
       "      <td>0.788428</td>\n",
       "      <td>0.211572</td>\n",
       "    </tr>\n",
       "    <tr>\n",
       "      <th>0.65</th>\n",
       "      <td>939</td>\n",
       "      <td>2663</td>\n",
       "      <td>3602</td>\n",
       "      <td>0.739311</td>\n",
       "      <td>0.260689</td>\n",
       "    </tr>\n",
       "    <tr>\n",
       "      <th>0.7</th>\n",
       "      <td>898</td>\n",
       "      <td>1885</td>\n",
       "      <td>2783</td>\n",
       "      <td>0.677327</td>\n",
       "      <td>0.322673</td>\n",
       "    </tr>\n",
       "    <tr>\n",
       "      <th>0.75</th>\n",
       "      <td>773</td>\n",
       "      <td>1521</td>\n",
       "      <td>2294</td>\n",
       "      <td>0.663034</td>\n",
       "      <td>0.336966</td>\n",
       "    </tr>\n",
       "    <tr>\n",
       "      <th>0.8</th>\n",
       "      <td>716</td>\n",
       "      <td>1121</td>\n",
       "      <td>1837</td>\n",
       "      <td>0.610234</td>\n",
       "      <td>0.389766</td>\n",
       "    </tr>\n",
       "    <tr>\n",
       "      <th>0.85</th>\n",
       "      <td>612</td>\n",
       "      <td>641</td>\n",
       "      <td>1253</td>\n",
       "      <td>0.511572</td>\n",
       "      <td>0.488428</td>\n",
       "    </tr>\n",
       "    <tr>\n",
       "      <th>0.9</th>\n",
       "      <td>388</td>\n",
       "      <td>432</td>\n",
       "      <td>820</td>\n",
       "      <td>0.526829</td>\n",
       "      <td>0.473171</td>\n",
       "    </tr>\n",
       "    <tr>\n",
       "      <th>0.95</th>\n",
       "      <td>167</td>\n",
       "      <td>249</td>\n",
       "      <td>416</td>\n",
       "      <td>0.598558</td>\n",
       "      <td>0.401442</td>\n",
       "    </tr>\n",
       "    <tr>\n",
       "      <th>1</th>\n",
       "      <td>11</td>\n",
       "      <td>49</td>\n",
       "      <td>60</td>\n",
       "      <td>0.816667</td>\n",
       "      <td>0.183333</td>\n",
       "    </tr>\n",
       "  </tbody>\n",
       "</table>\n",
       "</div>"
      ],
      "text/plain": [
       "VicSex  Female  Male  Total  Male Percent  Female Percent\n",
       "Bin                                                      \n",
       "0.05         0     4      4      1.000000        0.000000\n",
       "0.1          2    83     85      0.976471        0.023529\n",
       "0.15        14   522    536      0.973881        0.026119\n",
       "0.2         51  1075   1126      0.954707        0.045293\n",
       "0.25       104  1296   1400      0.925714        0.074286\n",
       "0.3        168  2054   2222      0.924392        0.075608\n",
       "0.35       234  3858   4092      0.942815        0.057185\n",
       "0.4        374  4967   5341      0.929976        0.070024\n",
       "0.45       511  4550   5061      0.899032        0.100968\n",
       "0.5        691  3190   3881      0.821953        0.178047\n",
       "0.55       750  2869   3619      0.792760        0.207240\n",
       "0.6        841  3134   3975      0.788428        0.211572\n",
       "0.65       939  2663   3602      0.739311        0.260689\n",
       "0.7        898  1885   2783      0.677327        0.322673\n",
       "0.75       773  1521   2294      0.663034        0.336966\n",
       "0.8        716  1121   1837      0.610234        0.389766\n",
       "0.85       612   641   1253      0.511572        0.488428\n",
       "0.9        388   432    820      0.526829        0.473171\n",
       "0.95       167   249    416      0.598558        0.401442\n",
       "1           11    49     60      0.816667        0.183333"
      ]
     },
     "execution_count": 35,
     "metadata": {},
     "output_type": "execute_result"
    }
   ],
   "source": [
    "bin_breakdown = results_df.groupby(['Bin','VicSex'])['VicSex'].count()\n",
    "bin_sex_breakdown = bin_breakdown.unstack()\n",
    "bin_sex_breakdown['Total'] = results_df.groupby('Bin')['VicSex'].count()\n",
    "bin_sex_breakdown['Male Percent'] = bin_sex_breakdown.Male / bin_sex_breakdown.Total\n",
    "bin_sex_breakdown['Female Percent'] = bin_sex_breakdown.Female / bin_sex_breakdown.Total\n",
    "bin_sex_breakdown"
   ]
  },
  {
   "cell_type": "code",
   "execution_count": 38,
   "metadata": {},
   "outputs": [
    {
     "data": {
      "text/plain": [
       "<BarContainer object of 20 artists>"
      ]
     },
     "execution_count": 38,
     "metadata": {},
     "output_type": "execute_result"
    },
    {
     "data": {
      "image/png": "[encoded data removed]",
      "text/plain": [
       "<Figure size 432x288 with 1 Axes>"
      ]
     },
     "metadata": {},
     "output_type": "display_data"
    }
   ],
   "source": [
    "plt.bar(bin_sex_breakdown.index, bin_sex_breakdown['Male Percent'])"
   ]
  },
  {
   "cell_type": "markdown",
   "metadata": {},
   "source": [
    "Add breakdown of location\n",
    "\n",
    "Add regression lines"
   ]
  },
  {
   "cell_type": "code",
   "execution_count": 9,
   "metadata": {},
   "outputs": [],
   "source": [
    "model = LogisticRegression()"
   ]
  },
  {
   "cell_type": "code",
   "execution_count": 22,
   "metadata": {},
   "outputs": [
    {
     "name": "stderr",
     "output_type": "stream",
     "text": [
      "C:\\Users\\Classy\\anaconda3\\lib\\site-packages\\sklearn\\utils\\validation.py:760: DataConversionWarning: A column-vector y was passed when a 1d array was expected. Please change the shape of y to (n_samples, ), for example using ravel().\n",
      "  y = column_or_1d(y, warn=True)\n",
      "C:\\Users\\Classy\\anaconda3\\lib\\site-packages\\ipykernel_launcher.py:13: FutureWarning: Indexing with multiple keys (implicitly converted to a tuple of keys) will be deprecated, use a list instead.\n",
      "  del sys.path[0]\n",
      "C:\\Users\\Classy\\anaconda3\\lib\\site-packages\\sklearn\\utils\\validation.py:760: DataConversionWarning: A column-vector y was passed when a 1d array was expected. Please change the shape of y to (n_samples, ), for example using ravel().\n",
      "  y = column_or_1d(y, warn=True)\n",
      "C:\\Users\\Classy\\anaconda3\\lib\\site-packages\\ipykernel_launcher.py:13: FutureWarning: Indexing with multiple keys (implicitly converted to a tuple of keys) will be deprecated, use a list instead.\n",
      "  del sys.path[0]\n",
      "C:\\Users\\Classy\\anaconda3\\lib\\site-packages\\sklearn\\utils\\validation.py:760: DataConversionWarning: A column-vector y was passed when a 1d array was expected. Please change the shape of y to (n_samples, ), for example using ravel().\n",
      "  y = column_or_1d(y, warn=True)\n",
      "C:\\Users\\Classy\\anaconda3\\lib\\site-packages\\ipykernel_launcher.py:13: FutureWarning: Indexing with multiple keys (implicitly converted to a tuple of keys) will be deprecated, use a list instead.\n",
      "  del sys.path[0]\n",
      "C:\\Users\\Classy\\anaconda3\\lib\\site-packages\\sklearn\\utils\\validation.py:760: DataConversionWarning: A column-vector y was passed when a 1d array was expected. Please change the shape of y to (n_samples, ), for example using ravel().\n",
      "  y = column_or_1d(y, warn=True)\n",
      "C:\\Users\\Classy\\anaconda3\\lib\\site-packages\\ipykernel_launcher.py:13: FutureWarning: Indexing with multiple keys (implicitly converted to a tuple of keys) will be deprecated, use a list instead.\n",
      "  del sys.path[0]\n",
      "C:\\Users\\Classy\\anaconda3\\lib\\site-packages\\sklearn\\utils\\validation.py:760: DataConversionWarning: A column-vector y was passed when a 1d array was expected. Please change the shape of y to (n_samples, ), for example using ravel().\n",
      "  y = column_or_1d(y, warn=True)\n"
     ]
    },
    {
     "name": "stdout",
     "output_type": "stream",
     "text": [
      "Scores: [ -478.81520785  -462.17076923  -615.36729123 -8044.48441743\n",
      " -7841.71252911]\n",
      "Mean: -3488.51\n",
      "Standard Deviation 3638.11\n",
      "Cross Validation Time: 4.0 seconds\n"
     ]
    },
    {
     "name": "stderr",
     "output_type": "stream",
     "text": [
      "C:\\Users\\Classy\\anaconda3\\lib\\site-packages\\ipykernel_launcher.py:13: FutureWarning: Indexing with multiple keys (implicitly converted to a tuple of keys) will be deprecated, use a list instead.\n",
      "  del sys.path[0]\n"
     ]
    }
   ],
   "source": [
    "#Add multiple scoring!!\n",
    "#def cross_val_custom_scoring(model, scoring):\n",
    "\n",
    "start_cross_val = timer()\n",
    "\n",
    "scores = cross_val_score(model, X_train, y_train, scoring = binned_squared_loss)\n",
    "\n",
    "print('Scores:', scores)\n",
    "print('Mean:', round(scores.mean(), 2))\n",
    "print('Standard Deviation', round(scores.std(), 2))\n",
    "\n",
    "end_cross_val = timer()\n",
    "print('Cross Validation Time:', round(end_cross_val - start_cross_val,1), 'seconds')"
   ]
  },
  {
   "cell_type": "code",
   "execution_count": null,
   "metadata": {},
   "outputs": [],
   "source": [
    "#train-test a few model types and use custom scoring function and updated output"
   ]
  },
  {
   "cell_type": "code",
   "execution_count": null,
   "metadata": {},
   "outputs": [],
   "source": []
  },
  {
   "cell_type": "code",
   "execution_count": null,
   "metadata": {},
   "outputs": [],
   "source": [
    "#gridsearch best model (likely Random Forest) using custom scoring function"
   ]
  },
  {
   "cell_type": "code",
   "execution_count": 39,
   "metadata": {},
   "outputs": [
    {
     "name": "stdout",
     "output_type": "stream",
     "text": [
      "Fitting 5 folds for each of 5 candidates, totalling 25 fits\n"
     ]
    },
    {
     "name": "stderr",
     "output_type": "stream",
     "text": [
      "[Parallel(n_jobs=3)]: Using backend LokyBackend with 3 concurrent workers.\n",
      "[Parallel(n_jobs=3)]: Done  25 out of  25 | elapsed:    3.7s finished\n"
     ]
    },
    {
     "data": {
      "text/plain": [
       "GridSearchCV(cv=None, error_score=nan,\n",
       "             estimator=LogisticRegression(C=1.0, class_weight=None, dual=False,\n",
       "                                          fit_intercept=True,\n",
       "                                          intercept_scaling=1, l1_ratio=None,\n",
       "                                          max_iter=100, multi_class='auto',\n",
       "                                          n_jobs=None, penalty='l2',\n",
       "                                          random_state=None, solver='lbfgs',\n",
       "                                          tol=0.0001, verbose=0,\n",
       "                                          warm_start=False),\n",
       "             iid='deprecated', n_jobs=3,\n",
       "             param_grid=[{'C': [1e-09, 1e-08, 1e-07, 1e-06, 1e-05]}],\n",
       "             pre_dispatch='2*n_jobs', refit=False, return_train_score=False,\n",
       "             scoring={'accuracy': 'accuracy',\n",
       "                      'binned squared loss': make_scorer(binned_sum_of_squared_residuals, greater_is_better=False, needs_proba=True),\n",
       "                      'f1': 'f1'},\n",
       "             verbose=True)"
      ]
     },
     "execution_count": 39,
     "metadata": {},
     "output_type": "execute_result"
    }
   ],
   "source": [
    "model  = LogisticRegression()\n",
    "\n",
    "grid = [{'C': [.000000001, .00000001, .0000001, .000001, .00001]}]\n",
    "\n",
    "scoring = {'f1' : 'f1',\n",
    "           'accuracy' : 'accuracy',\n",
    "           'binned squared loss' : binned_squared_loss}\n",
    "\n",
    "grid_search = GridSearchCV(model, \n",
    "                           param_grid = grid, \n",
    "                           scoring = scoring, \n",
    "                           n_jobs = 3, \n",
    "                           verbose = True, \n",
    "                           return_train_score = False, \n",
    "                           refit = False)\n",
    "grid_search.fit(X_train, y_train)"
   ]
  },
  {
   "cell_type": "code",
   "execution_count": 40,
   "metadata": {},
   "outputs": [
    {
     "data": {
      "text/html": [
       "<div>\n",
       "<style scoped>\n",
       "    .dataframe tbody tr th:only-of-type {\n",
       "        vertical-align: middle;\n",
       "    }\n",
       "\n",
       "    .dataframe tbody tr th {\n",
       "        vertical-align: top;\n",
       "    }\n",
       "\n",
       "    .dataframe thead th {\n",
       "        text-align: right;\n",
       "    }\n",
       "</style>\n",
       "<table border=\"1\" class=\"dataframe\">\n",
       "  <thead>\n",
       "    <tr style=\"text-align: right;\">\n",
       "      <th></th>\n",
       "      <th>mean_fit_time</th>\n",
       "      <th>std_fit_time</th>\n",
       "      <th>mean_score_time</th>\n",
       "      <th>std_score_time</th>\n",
       "      <th>param_C</th>\n",
       "      <th>params</th>\n",
       "      <th>split0_test_f1</th>\n",
       "      <th>split1_test_f1</th>\n",
       "      <th>split2_test_f1</th>\n",
       "      <th>split3_test_f1</th>\n",
       "      <th>...</th>\n",
       "      <th>std_test_accuracy</th>\n",
       "      <th>rank_test_accuracy</th>\n",
       "      <th>split0_test_binned squared loss</th>\n",
       "      <th>split1_test_binned squared loss</th>\n",
       "      <th>split2_test_binned squared loss</th>\n",
       "      <th>split3_test_binned squared loss</th>\n",
       "      <th>split4_test_binned squared loss</th>\n",
       "      <th>mean_test_binned squared loss</th>\n",
       "      <th>std_test_binned squared loss</th>\n",
       "      <th>rank_test_binned squared loss</th>\n",
       "    </tr>\n",
       "  </thead>\n",
       "  <tbody>\n",
       "    <tr>\n",
       "      <th>0</th>\n",
       "      <td>0.290134</td>\n",
       "      <td>0.026874</td>\n",
       "      <td>0.058518</td>\n",
       "      <td>0.004246</td>\n",
       "      <td>1e-09</td>\n",
       "      <td>{'C': 1e-09}</td>\n",
       "      <td>0.561473</td>\n",
       "      <td>0.564721</td>\n",
       "      <td>0.572477</td>\n",
       "      <td>0.568541</td>\n",
       "      <td>...</td>\n",
       "      <td>0.002140</td>\n",
       "      <td>5</td>\n",
       "      <td>-158.274405</td>\n",
       "      <td>-178.420091</td>\n",
       "      <td>-179.132143</td>\n",
       "      <td>-172.752129</td>\n",
       "      <td>-176.482367</td>\n",
       "      <td>-173.012227</td>\n",
       "      <td>7.694300</td>\n",
       "      <td>4</td>\n",
       "    </tr>\n",
       "    <tr>\n",
       "      <th>1</th>\n",
       "      <td>0.310885</td>\n",
       "      <td>0.030446</td>\n",
       "      <td>0.063047</td>\n",
       "      <td>0.004093</td>\n",
       "      <td>1e-08</td>\n",
       "      <td>{'C': 1e-08}</td>\n",
       "      <td>0.561473</td>\n",
       "      <td>0.564744</td>\n",
       "      <td>0.572477</td>\n",
       "      <td>0.568541</td>\n",
       "      <td>...</td>\n",
       "      <td>0.002150</td>\n",
       "      <td>4</td>\n",
       "      <td>-158.102790</td>\n",
       "      <td>-178.395828</td>\n",
       "      <td>-178.953055</td>\n",
       "      <td>-172.575624</td>\n",
       "      <td>-176.610265</td>\n",
       "      <td>-172.927512</td>\n",
       "      <td>7.741686</td>\n",
       "      <td>3</td>\n",
       "    </tr>\n",
       "    <tr>\n",
       "      <th>2</th>\n",
       "      <td>0.321437</td>\n",
       "      <td>0.029114</td>\n",
       "      <td>0.063089</td>\n",
       "      <td>0.003945</td>\n",
       "      <td>1e-07</td>\n",
       "      <td>{'C': 1e-07}</td>\n",
       "      <td>0.561767</td>\n",
       "      <td>0.564236</td>\n",
       "      <td>0.572387</td>\n",
       "      <td>0.568756</td>\n",
       "      <td>...</td>\n",
       "      <td>0.002025</td>\n",
       "      <td>3</td>\n",
       "      <td>-157.811863</td>\n",
       "      <td>-175.736469</td>\n",
       "      <td>-177.059276</td>\n",
       "      <td>-172.007648</td>\n",
       "      <td>-176.303633</td>\n",
       "      <td>-171.783778</td>\n",
       "      <td>7.199281</td>\n",
       "      <td>2</td>\n",
       "    </tr>\n",
       "    <tr>\n",
       "      <th>3</th>\n",
       "      <td>0.336754</td>\n",
       "      <td>0.025163</td>\n",
       "      <td>0.058616</td>\n",
       "      <td>0.004228</td>\n",
       "      <td>1e-06</td>\n",
       "      <td>{'C': 1e-06}</td>\n",
       "      <td>0.562193</td>\n",
       "      <td>0.564486</td>\n",
       "      <td>0.573393</td>\n",
       "      <td>0.568672</td>\n",
       "      <td>...</td>\n",
       "      <td>0.002266</td>\n",
       "      <td>2</td>\n",
       "      <td>-144.888966</td>\n",
       "      <td>-163.875878</td>\n",
       "      <td>-166.642819</td>\n",
       "      <td>-158.496002</td>\n",
       "      <td>-165.120098</td>\n",
       "      <td>-159.804753</td>\n",
       "      <td>7.947070</td>\n",
       "      <td>1</td>\n",
       "    </tr>\n",
       "    <tr>\n",
       "      <th>4</th>\n",
       "      <td>0.343942</td>\n",
       "      <td>0.059157</td>\n",
       "      <td>0.052397</td>\n",
       "      <td>0.008405</td>\n",
       "      <td>1e-05</td>\n",
       "      <td>{'C': 1e-05}</td>\n",
       "      <td>0.567077</td>\n",
       "      <td>0.568971</td>\n",
       "      <td>0.577262</td>\n",
       "      <td>0.573049</td>\n",
       "      <td>...</td>\n",
       "      <td>0.001900</td>\n",
       "      <td>1</td>\n",
       "      <td>-1767.270985</td>\n",
       "      <td>-2479.764444</td>\n",
       "      <td>-2532.691853</td>\n",
       "      <td>-1875.967586</td>\n",
       "      <td>-2335.686513</td>\n",
       "      <td>-2198.276276</td>\n",
       "      <td>316.101057</td>\n",
       "      <td>5</td>\n",
       "    </tr>\n",
       "  </tbody>\n",
       "</table>\n",
       "<p>5 rows × 30 columns</p>\n",
       "</div>"
      ],
      "text/plain": [
       "   mean_fit_time  std_fit_time  mean_score_time  std_score_time param_C  \\\n",
       "0       0.290134      0.026874         0.058518        0.004246   1e-09   \n",
       "1       0.310885      0.030446         0.063047        0.004093   1e-08   \n",
       "2       0.321437      0.029114         0.063089        0.003945   1e-07   \n",
       "3       0.336754      0.025163         0.058616        0.004228   1e-06   \n",
       "4       0.343942      0.059157         0.052397        0.008405   1e-05   \n",
       "\n",
       "         params  split0_test_f1  split1_test_f1  split2_test_f1  \\\n",
       "0  {'C': 1e-09}        0.561473        0.564721        0.572477   \n",
       "1  {'C': 1e-08}        0.561473        0.564744        0.572477   \n",
       "2  {'C': 1e-07}        0.561767        0.564236        0.572387   \n",
       "3  {'C': 1e-06}        0.562193        0.564486        0.573393   \n",
       "4  {'C': 1e-05}        0.567077        0.568971        0.577262   \n",
       "\n",
       "   split3_test_f1  ...  std_test_accuracy  rank_test_accuracy  \\\n",
       "0        0.568541  ...           0.002140                   5   \n",
       "1        0.568541  ...           0.002150                   4   \n",
       "2        0.568756  ...           0.002025                   3   \n",
       "3        0.568672  ...           0.002266                   2   \n",
       "4        0.573049  ...           0.001900                   1   \n",
       "\n",
       "   split0_test_binned squared loss  split1_test_binned squared loss  \\\n",
       "0                      -158.274405                      -178.420091   \n",
       "1                      -158.102790                      -178.395828   \n",
       "2                      -157.811863                      -175.736469   \n",
       "3                      -144.888966                      -163.875878   \n",
       "4                     -1767.270985                     -2479.764444   \n",
       "\n",
       "   split2_test_binned squared loss  split3_test_binned squared loss  \\\n",
       "0                      -179.132143                      -172.752129   \n",
       "1                      -178.953055                      -172.575624   \n",
       "2                      -177.059276                      -172.007648   \n",
       "3                      -166.642819                      -158.496002   \n",
       "4                     -2532.691853                     -1875.967586   \n",
       "\n",
       "   split4_test_binned squared loss  mean_test_binned squared loss  \\\n",
       "0                      -176.482367                    -173.012227   \n",
       "1                      -176.610265                    -172.927512   \n",
       "2                      -176.303633                    -171.783778   \n",
       "3                      -165.120098                    -159.804753   \n",
       "4                     -2335.686513                   -2198.276276   \n",
       "\n",
       "   std_test_binned squared loss  rank_test_binned squared loss  \n",
       "0                      7.694300                              4  \n",
       "1                      7.741686                              3  \n",
       "2                      7.199281                              2  \n",
       "3                      7.947070                              1  \n",
       "4                    316.101057                              5  \n",
       "\n",
       "[5 rows x 30 columns]"
      ]
     },
     "execution_count": 40,
     "metadata": {},
     "output_type": "execute_result"
    }
   ],
   "source": [
    "pd.DataFrame(grid_search.cv_results_)"
   ]
  },
  {
   "cell_type": "code",
   "execution_count": 41,
   "metadata": {},
   "outputs": [
    {
     "data": {
      "text/plain": [
       "0    0.591252\n",
       "1    0.591275\n",
       "2    0.591425\n",
       "3    0.592453\n",
       "4    0.599059\n",
       "Name: mean_test_accuracy, dtype: float64"
      ]
     },
     "execution_count": 41,
     "metadata": {},
     "output_type": "execute_result"
    }
   ],
   "source": [
    "pd.DataFrame(grid_search.cv_results_).mean_test_accuracy"
   ]
  },
  {
   "cell_type": "code",
   "execution_count": null,
   "metadata": {},
   "outputs": [],
   "source": []
  },
  {
   "cell_type": "code",
   "execution_count": null,
   "metadata": {},
   "outputs": [],
   "source": []
  },
  {
   "cell_type": "markdown",
   "metadata": {},
   "source": [
    "Add some logreg lines to the above charts"
   ]
  },
  {
   "cell_type": "markdown",
   "metadata": {},
   "source": [
    "Maybe try a smaller number of bins and see what happens"
   ]
  },
  {
   "cell_type": "markdown",
   "metadata": {},
   "source": [
    "Oh! Try validation on an unbalanced (or at least differently balanced) dataset and see what the results look like"
   ]
  }
 ],
 "metadata": {
  "kernelspec": {
   "display_name": "Python 3",
   "language": "python",
   "name": "python3"
  },
  "language_info": {
   "codemirror_mode": {
    "name": "ipython",
    "version": 3
   },
   "file_extension": ".py",
   "mimetype": "text/x-python",
   "name": "python",
   "nbconvert_exporter": "python",
   "pygments_lexer": "ipython3",
   "version": "3.8.5"
  }
 },
 "nbformat": 4,
 "nbformat_minor": 5
}
